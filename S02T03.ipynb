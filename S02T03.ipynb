{
 "cells": [
  {
   "cell_type": "markdown",
   "id": "6772146b",
   "metadata": {},
   "source": [
    "# S02 T03: Estructura de control\n",
    "\n",
    "##### Comencem a familiaritzar-nos amb les estructures de control de Python\n",
    "\n",
    "## Nivell 1\n",
    "\n",
    "* ### Exercici 1\n",
    "\n",
    "__L'exercici consisteix a crear un programa que et classifiqui una variable numèrica en funció de l’escala Suspès/Aprovat/Notable/Excel·lent.__"
   ]
  },
  {
   "cell_type": "code",
   "execution_count": null,
   "id": "19d4e83d",
   "metadata": {
    "scrolled": true
   },
   "outputs": [],
   "source": [
    "nota_alumne=int(input(\"Introdueix una nota: \"))         # Amb input() demanem a l'usuari dades per pantalla.\n",
    "if nota_alumne<5:\n",
    "    print(\"Estàs Suspès\")\n",
    "elif nota_alumne>=5 and nota_alumne<=6:\n",
    "    print(\"Estàs Aprovat\")\n",
    "elif nota_alumne>=7 and nota_alumne<=8:\n",
    "    print(\"Has tret un Notable\")\n",
    "else:\n",
    "    print(\"Enhorabona!!! Has tret un Excel.lent\")"
   ]
  },
  {
   "cell_type": "markdown",
   "id": "f09dabe5",
   "metadata": {},
   "source": [
    "#### Possibles opcions de sortida:\n",
    "```\n",
    "Introdueix una nota: 4\n",
    "Estàs Suspès\n",
    "\n",
    "Introdueix una nota: 5\n",
    "Estàs Aprovat\n",
    "\n",
    "Introdueix una nota: 7\n",
    "Has tret un Notable\n",
    "\n",
    "Introdueix una nota: 9\n",
    "Enhorabona!!! Has tret un Excel.lent\n",
    "```"
   ]
  },
  {
   "cell_type": "markdown",
   "id": "bab16fac",
   "metadata": {},
   "source": [
    "* ### Exercici 2\n",
    "\n",
    "__Utilitzant el següent tutorial Programiz: Python Input, Output and Import crea un programa que et pregunti dos números.  \n",
    "T’ha de mostrar un missatge dient si el primer és més gran, el segon és més gran o són iguals.__"
   ]
  },
  {
   "cell_type": "code",
   "execution_count": null,
   "id": "db97ecb9",
   "metadata": {},
   "outputs": [],
   "source": [
    "primer_numero=int(input(\"Introdueix el Primer número: \"))\n",
    "segon_numero=int(input(\"Introdueix el Segon número: \"))\n",
    "if primer_numero > segon_numero:\n",
    "    print(f\"    El número {primer_numero} és més GRAN que el {segon_numero}\")\n",
    "elif primer_numero < segon_numero:\n",
    "    print(\"     El número {} és més PETIT que el {}\".format(primer_numero,segon_numero))\n",
    "else:\n",
    "    print(\"    El 2 números introduïts són iguals\")"
   ]
  },
  {
   "cell_type": "markdown",
   "id": "183d031b",
   "metadata": {},
   "source": [
    "#### Cas que el Primer sigui més GRAN que el Segon:\n",
    "```\n",
    "Introdueix el Primer número: 8\n",
    "Introdueix el Segon número: 2\n",
    "    El número 8 és més GRAN que el 2\n",
    "```"
   ]
  },
  {
   "cell_type": "markdown",
   "id": "16e32c36",
   "metadata": {},
   "source": [
    "#### Cas que el Primer sigui més PETIT que el Segon:\n",
    "```\n",
    "Introdueix el Primer número: 4\n",
    "Introdueix el Segon número: 9\n",
    "     El número 4 és més PETIT que el 9\n",
    "```"
   ]
  },
  {
   "cell_type": "markdown",
   "id": "d0fe5574",
   "metadata": {},
   "source": [
    "#### Cas que Primer i Segon siguin iguals:\n",
    "```\n",
    "Introdueix el Primer número: 3\n",
    "Introdueix el Segon número: 3\n",
    "    El 2 números introduïts són iguals\n",
    "```"
   ]
  },
  {
   "cell_type": "markdown",
   "id": "49199844",
   "metadata": {},
   "source": [
    "* ### Exercici 3\n",
    "\n",
    "__Crea un programa que et pregunti el teu nom, i et demani un número. Si el número és 0, hauria de mostrar un missatge d’error.  \n",
    "En cas contrari, hauria de mostrar el nom repetit tants cops com indiqui el número. Per exemple, “Joan Joan Joan”.__"
   ]
  },
  {
   "cell_type": "code",
   "execution_count": null,
   "id": "0bcdfcac",
   "metadata": {
    "scrolled": false
   },
   "outputs": [],
   "source": [
    "nom=input(\"Hola! Com et dius ? \") + ' '\n",
    "numero=int(input(f\"Hola {nom}, introdueix un número: \"))\n",
    "while numero==0:\n",
    "    print(f\"\\n   {nom}, El número ha de ser més gran de zero \\'0\\'\",end='\\n')        # Error: numero==0\n",
    "    numero=int(input(\"Torna a introduir un número: \"))\n",
    "resultat=nom  * numero\n",
    "print(f\"\\nEl teu nom, {nom}, repetit {numero} cop(s)\", end=': ');print(resultat)"
   ]
  },
  {
   "cell_type": "markdown",
   "id": "92fc6209",
   "metadata": {},
   "source": [
    "#### Cas que es prodieix un error: (número = 0)\n",
    "```\n",
    "Hola! Com et dius ? Joan\n",
    "Hola Joan , introdueix un número: 0\n",
    "\n",
    "   Joan , El número ha de ser més gran de zero '0'\n",
    "Torna a introduir un número: 8\n",
    "\n",
    "El teu nom, Joan , repetit 8 cop(s): Joan Joan Joan Joan Joan Joan Joan Joan \n",
    "```"
   ]
  },
  {
   "cell_type": "markdown",
   "id": "28a973de",
   "metadata": {},
   "source": [
    "#### Cas que no hi ha error:\n",
    "```\n",
    "Hola! Com et dius ? Joan\n",
    "Hola Joan , introdueix un número: 5\n",
    "El teu nom, Joan , repetit 5 cop(s): Joan Joan Joan Joan Joan \n",
    "```"
   ]
  },
  {
   "cell_type": "markdown",
   "id": "ce920a7e",
   "metadata": {},
   "source": [
    "* ### Exercici 4\n",
    "\n",
    "__Crea un programa que donada una llista qualsevol, et digui si es simètrica o no. Si ho és, que et digui quants elements té.__"
   ]
  },
  {
   "cell_type": "markdown",
   "id": "0d4d8ceb",
   "metadata": {},
   "source": [
    ">_Una Matriu és simètrica si la transposada de la Matriu és la mateixa Matriu. Ha de ser quadrada!_"
   ]
  },
  {
   "cell_type": "code",
   "execution_count": 5,
   "id": "5f2c48a9",
   "metadata": {},
   "outputs": [
    {
     "name": "stdout",
     "output_type": "stream",
     "text": [
      "Menú Principal :\n",
      "\n",
      "1.Matriu 3x3 - Simètrica\n",
      "2.Matriu 3x3 - NO Simètrica\n",
      "3.Matrius NumPy\n",
      "4.Matriu 2x2 - NO Simètrica           \n",
      "5.Matriu 2x2 - Simètrica\n",
      "6.Matriu NO Quadrada\n",
      "7.Sortir\n",
      "Introdueix una opció: 7\n",
      "Sortint...\n"
     ]
    }
   ],
   "source": [
    "import numpy as np\n",
    "import math\n",
    "from os import system\n",
    "from IPython.display import clear_output\n",
    "\n",
    "arrayA1 = np.array([[1, 1, 5],[1, 2, 3],[5, 3, 4]])              # Quadrada -- Simètrica\n",
    "arrayA2 = np.array([[1, 2, 3],[4, 5, 6],[7, 8, 9]])              # Quadrada -- NO simètrica\n",
    "arrayA31 = np.array([[0, 0, 0],[0, 0, 0],[0, 0, 0]])             # Quadrada -- Simètrica (zeros)\n",
    "arrayA32 = np.array([[1, 1, 1],[1, 1, 1],[1, 1, 1]])             # Quadrada -- Simètrica (ones)\n",
    "arrayA33 = np.array([[1, 0, 0],[0, 1, 0],[0, 0, 1]])             # Quadrada -- Simètrica (diagonal)\n",
    "arrayA34 = np.array([[1, 0, 0],[1, 1, 0],[1, 1, 1]])             # Quadrada -- Simètrica (triangular)\n",
    "arrayA4 = np.array([[1, 1],[3, 3]])                              # Quadrada -- NO simètrica\n",
    "arrayA5 = np.array([[1, 1],[1, 3]])                              # Quadrada -- Simètrica\n",
    "arrayA6 = np.array([[1, 1],[1, 3],[3, 4]])                       # NO Quadrada\n",
    "sortir=True\n",
    "\n",
    "def matrices_numpy():\n",
    "    sortir=True\n",
    "    while  sortir:\n",
    "        print(\"\\nMenú de Matrius NumPy:\\n\")\n",
    "        print('1.Matriu \\'zeros\\'\\'zeros_like\\'\\'empty\\'\\n2.Matriu \\'ones\\'\\'ones_like\\'\\n3.Diagonal \\\n",
    "                \\n4.Triangular\\n5.Enrere')  # Menu Principal\n",
    "        opcio = int(input('Introdueix una opció: '))\n",
    "    \n",
    "        if opcio == 1:\n",
    "            simetria(arrayA31)\n",
    "        elif opcio == 2:\n",
    "            simetria(arrayA32)\n",
    "        elif opcio == 3:\n",
    "            simetria(arrayA33)\n",
    "        elif opcio == 4:\n",
    "            simetria(arrayA34)\n",
    "        elif opcio == 5:\n",
    "            print('Back to main... :-P')\n",
    "            sortir=False\n",
    "            clear_output()\n",
    "        else:\n",
    "            clear_output()\n",
    "            print('Introdueix una opció vàlida')\n",
    "    \n",
    "def simetria(arrayA):\n",
    "    arrayB = arrayA.T\n",
    "    clear_output()\n",
    "    print(\"Donada aquesta matriu:\\n\",arrayA)\n",
    "\n",
    "    arrel=math.sqrt(arrayA.size)\n",
    "    quadrat=int(arrel)*int(arrel)\n",
    "\n",
    "    if  (quadrat==arrayA.size):\n",
    "        if ((arrayA==arrayB).all()):            # Comparem les 2 Matrius\n",
    "            print(f\"La Matriu és simètrica i té: {arrayA.size} elements.\\n\")\n",
    "        else:\n",
    "            print(\"La Matriu NO és simètrica.\\n\")\n",
    "    else:\n",
    "        print(\"NO pot ser Simètrica. La Matriu ha de ser quadrada.\\n\")\n",
    "\n",
    "while sortir:\n",
    "    print(\"Menú Principal :\\n\")\n",
    "    print('1.Matriu 3x3 - Simètrica\\n2.Matriu 3x3 - NO Simètrica\\n3.Matrius NumPy\\n4.Matriu 2x2 - NO Simètrica \\\n",
    "          \\n5.Matriu 2x2 - Simètrica\\n6.Matriu NO Quadrada\\n7.Sortir') # Menu Principal\n",
    "    opcio = int(input('Introdueix una opció: '))\n",
    "    \n",
    "    if opcio == 1:\n",
    "        simetria(arrayA1)\n",
    "    elif opcio == 2:\n",
    "        simetria(arrayA2)\n",
    "    elif opcio == 3:\n",
    "        matrices_numpy()\n",
    "    elif opcio == 4:\n",
    "        simetria(arrayA4)\n",
    "    elif opcio == 5:\n",
    "        simetria(arrayA5)\n",
    "    elif opcio == 6:\n",
    "        simetria(arrayA6)\n",
    "    elif opcio == 7:\n",
    "        print('Sortint...')\n",
    "        sortir=False\n",
    "    else:\n",
    "        clear_output()\n",
    "        print('Introdueix una opció vàlida.\\n') "
   ]
  },
  {
   "cell_type": "markdown",
   "id": "b74a1c9a",
   "metadata": {},
   "source": [
    "* ### Exercici 5\n",
    "\n",
    "__Crea un programa que donada una llista, et digui quants números coincideixen amb la seva posició.  \n",
    "Per exemple [3,4,2,0,2,3,6] el 2 i el 6 coincideixen.__"
   ]
  },
  {
   "cell_type": "code",
   "execution_count": 8,
   "id": "a891e444",
   "metadata": {},
   "outputs": [
    {
     "name": "stdout",
     "output_type": "stream",
     "text": [
      "La Llista amb és: [1, 6, 4, 3, 3, 3, 5, 1, 9, 0]\n"
     ]
    }
   ],
   "source": [
    "import numpy as np\n",
    "import random\n",
    "\n",
    "coincidents=[]\n",
    "llista_numeros=[]\n",
    "\n",
    "for i in range(10):\n",
    "    llista_numeros.insert(i,random.randint(0,10))\n",
    "\n",
    "print(\"La Llista amb és:\", llista_numeros)"
   ]
  },
  {
   "cell_type": "code",
   "execution_count": 9,
   "id": "20b68a0a",
   "metadata": {},
   "outputs": [
    {
     "name": "stdout",
     "output_type": "stream",
     "text": [
      "\n",
      "La Llista de coincidents és: [3]\n"
     ]
    }
   ],
   "source": [
    "for i in range(len(llista_numeros)):\n",
    "    if i in llista_numeros:\n",
    "        if i==llista_numeros.index(i):\n",
    "            coincidents.append(llista_numeros.index(i))\n",
    "print(\"\\nLa Llista de coincidents és:\",coincidents)"
   ]
  }
 ],
 "metadata": {
  "kernelspec": {
   "display_name": "Python 3",
   "language": "python",
   "name": "python3"
  },
  "language_info": {
   "codemirror_mode": {
    "name": "ipython",
    "version": 3
   },
   "file_extension": ".py",
   "mimetype": "text/x-python",
   "name": "python",
   "nbconvert_exporter": "python",
   "pygments_lexer": "ipython3",
   "version": "3.8.8"
  }
 },
 "nbformat": 4,
 "nbformat_minor": 5
}
